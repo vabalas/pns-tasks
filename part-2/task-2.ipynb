{
 "cells": [
  {
   "cell_type": "markdown",
   "id": "mighty-vessel",
   "metadata": {},
   "source": [
    "# 2. Užduotis"
   ]
  },
  {
   "cell_type": "markdown",
   "id": "outstanding-studio",
   "metadata": {},
   "source": [
    "Tarkime, kad laikas iki įvykio $T$ turi ekstremalių reikšmių (minimalių) skirstinį, t.y.\n",
    "pasiskirstymo funkcija\n",
    "\n",
    "$$\n",
    "$$\n",
    "\n",
    "Naudodami atvirkštinės transformacijos metodą, sumodeliuokite paprastąją atsitiktinę imtį\n",
    "(**Pastaba.** Kai iš konteksto aišku, dažnai žodis realizacija praleidžiamas).\n",
    "\n",
    "Raskite taškinius ir intervalinius parametrų įverčius. Pasirinktame taške $t$ įvertinkite pasi-\n",
    "skirstymo funkciją ir jos pasikliovimo intervalą."
   ]
  },
  {
   "cell_type": "code",
   "execution_count": null,
   "id": "occupied-front",
   "metadata": {},
   "outputs": [],
   "source": []
  }
 ],
 "metadata": {
  "kernelspec": {
   "display_name": "R",
   "language": "R",
   "name": "ir"
  },
  "language_info": {
   "codemirror_mode": "r",
   "file_extension": ".r",
   "mimetype": "text/x-r-source",
   "name": "R",
   "pygments_lexer": "r",
   "version": "4.0.3"
  }
 },
 "nbformat": 4,
 "nbformat_minor": 5
}
