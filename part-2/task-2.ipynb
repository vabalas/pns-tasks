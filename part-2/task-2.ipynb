{
 "cells": [
  {
   "cell_type": "markdown",
   "id": "driven-serial",
   "metadata": {},
   "source": [
    "# 2. Užduotis"
   ]
  },
  {
   "cell_type": "code",
   "execution_count": null,
   "id": "bored-consideration",
   "metadata": {},
   "outputs": [],
   "source": []
  }
 ],
 "metadata": {
  "kernelspec": {
   "display_name": "R",
   "language": "R",
   "name": "ir"
  },
  "language_info": {
   "codemirror_mode": "r",
   "file_extension": ".r",
   "mimetype": "text/x-r-source",
   "name": "R",
   "pygments_lexer": "r",
   "version": "4.0.3"
  }
 },
 "nbformat": 4,
 "nbformat_minor": 5
}
