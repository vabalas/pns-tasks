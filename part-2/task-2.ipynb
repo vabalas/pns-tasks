{
 "cells": [
  {
   "cell_type": "markdown",
   "id": "acceptable-consequence",
   "metadata": {},
   "source": [
    "# 2. Užduotis"
   ]
  },
  {
   "cell_type": "markdown",
   "id": "postal-firmware",
   "metadata": {},
   "source": [
    "Tarkime, kad laikas iki įvykio $T$ turi ekstremalių reikšmių (minimalių) skirstinį, t.y.\n",
    "pasiskirstymo funkcija\n",
    "\n",
    "$$\n",
    "F(t; \\mu, \\sigma) = 1 - \\exp{\\{-{e}^{(t - \\mu)/\\sigma}\\}},\n",
    "$$\n",
    "\n",
    "Naudodami atvirkštinės transformacijos metodą, sumodeliuokite paprastąją atsitiktinę imtį\n",
    "(**Pastaba.** Kai iš konteksto aišku, dažnai žodis realizacija praleidžiamas)."
   ]
  },
  {
   "cell_type": "code",
   "execution_count": 232,
   "id": "automatic-hormone",
   "metadata": {},
   "outputs": [],
   "source": [
    "library(latex2exp)\n",
    "\n",
    "set.seed(314)\n",
    "n <- 100\n",
    "ts <- runif(n)"
   ]
  },
  {
   "cell_type": "code",
   "execution_count": 130,
   "id": "individual-worship",
   "metadata": {},
   "outputs": [],
   "source": [
    "inverse_cdf <- function(theta) {\n",
    "    mu <- theta[1]\n",
    "    sigma <- theta[2]\n",
    "\n",
    "    function(t) {\n",
    "        sigma*log(-log(1 - t)) + mu\n",
    "    }\n",
    "}"
   ]
  },
  {
   "cell_type": "code",
   "execution_count": 131,
   "id": "finished-gamma",
   "metadata": {},
   "outputs": [],
   "source": [
    "mu <- 5\n",
    "sigma <- 10"
   ]
  },
  {
   "cell_type": "code",
   "execution_count": 132,
   "id": "provincial-toner",
   "metadata": {},
   "outputs": [],
   "source": [
    "observ <- inverse_cdf(c(mu, sigma))(ts)"
   ]
  },
  {
   "cell_type": "markdown",
   "id": "appreciated-hundred",
   "metadata": {},
   "source": [
    "Raskite taškinius ir intervalinius parametrų įverčius."
   ]
  },
  {
   "cell_type": "code",
   "execution_count": 177,
   "id": "diagnostic-embassy",
   "metadata": {},
   "outputs": [],
   "source": [
    "## Logtikėtinumo funkcija\n",
    "loglik <- function(observations) {\n",
    "    function(theta) {\n",
    "        mu <- theta[1]\n",
    "        sigma <- theta[2]\n",
    "        \n",
    "        sum(-log(sigma)+(observations-mu)/sigma-exp((observations-mu)/sigma))\n",
    "    }\n",
    "}"
   ]
  },
  {
   "cell_type": "code",
   "execution_count": 192,
   "id": "sunset-canada",
   "metadata": {},
   "outputs": [],
   "source": [
    "maxlik_optimiser <- function(f, start) {\n",
    "    suppressPackageStartupMessages(require(maxLik))\n",
    "    mle <- maxLik::maxLik(logLik = f, start = start)\n",
    "    r <- list(\n",
    "        estimates = coef(mle),\n",
    "        hessian = hessian(mle),\n",
    "        gradient = gradient(mle)\n",
    "    )\n",
    "    return(r)\n",
    "}\n",
    "\n",
    "mle_estimator <- function(loglikelihood, optimiser) {\n",
    "    function(data, start) {\n",
    "        optimiser(loglikelihood(data), start)\n",
    "    }\n",
    "}"
   ]
  },
  {
   "cell_type": "markdown",
   "id": "flush-albuquerque",
   "metadata": {},
   "source": [
    "Pradiniams artiniams ieškoti naudosimės momentų metodu (parametrą perašysime kaip funkciją nuo vidurkio\n",
    "ir įstatę imties vidurkį gausime įvertį):\n",
    "\n",
    "$$\n",
    "\\hat{\\mu} = \\frac{\\pi \\bar{x} + \\sqrt{6} \\gamma \\sqrt{s^2}}{\\pi}, \\hat{\\sigma} = \\frac{\\sqrt{6} \\sqrt{s^2}}{\\pi}\n",
    "$$\n",
    "\n",
    "čia $\\bar{x}$ - imties vidurkis, $s^2$ - imties variacija."
   ]
  },
  {
   "cell_type": "code",
   "execution_count": 193,
   "id": "pharmaceutical-company",
   "metadata": {},
   "outputs": [
    {
     "data": {
      "text/html": [
       "<style>\n",
       ".list-inline {list-style: none; margin:0; padding: 0}\n",
       ".list-inline>li {display: inline-block}\n",
       ".list-inline>li:not(:last-child)::after {content: \"\\00b7\"; padding: 0 .5ex}\n",
       "</style>\n",
       "<ol class=list-inline><li>3.12191044545556</li><li>10.4205388814981</li></ol>\n"
      ],
      "text/latex": [
       "\\begin{enumerate*}\n",
       "\\item 3.12191044545556\n",
       "\\item 10.4205388814981\n",
       "\\end{enumerate*}\n"
      ],
      "text/markdown": [
       "1. 3.12191044545556\n",
       "2. 10.4205388814981\n",
       "\n",
       "\n"
      ],
      "text/plain": [
       "[1]  3.12191 10.42054"
      ]
     },
     "metadata": {},
     "output_type": "display_data"
    }
   ],
   "source": [
    "moment_estimator <- function(observations) {\n",
    "    gamma <- 0.5772156\n",
    "\n",
    "    m <- mean(observations)\n",
    "    s <- var(observations)\n",
    "\n",
    "    sigma_hat <- sqrt(6) * sqrt(s) / pi\n",
    "    mu_hat <- m + gamma * sigma_hat\n",
    "    \n",
    "    c(mu_hat, sigma_hat)\n",
    "}\n",
    "\n",
    "(start_theta <- moment_estimator(observ))"
   ]
  },
  {
   "cell_type": "markdown",
   "id": "unusual-protection",
   "metadata": {},
   "source": [
    "Vertinkime didžiausio tikėtinumo metodu:"
   ]
  },
  {
   "cell_type": "code",
   "execution_count": 194,
   "id": "ranging-cleaners",
   "metadata": {},
   "outputs": [
    {
     "data": {
      "text/html": [
       "<dl>\n",
       "\t<dt>$estimates</dt>\n",
       "\t\t<dd><style>\n",
       ".list-inline {list-style: none; margin:0; padding: 0}\n",
       ".list-inline>li {display: inline-block}\n",
       ".list-inline>li:not(:last-child)::after {content: \"\\00b7\"; padding: 0 .5ex}\n",
       "</style>\n",
       "<ol class=list-inline><li>2.82829590045413</li><li>9.65787116152053</li></ol>\n",
       "</dd>\n",
       "\t<dt>$hessian</dt>\n",
       "\t\t<dd><table class=\"dataframe\">\n",
       "<caption>A matrix: 2 × 2 of type dbl</caption>\n",
       "<tbody>\n",
       "\t<tr><td>-1.0800250</td><td>-0.4547474</td></tr>\n",
       "\t<tr><td>-0.4547474</td><td>-1.9326762</td></tr>\n",
       "</tbody>\n",
       "</table>\n",
       "</dd>\n",
       "\t<dt>$gradient</dt>\n",
       "\t\t<dd><style>\n",
       ".list-inline {list-style: none; margin:0; padding: 0}\n",
       ".list-inline>li {display: inline-block}\n",
       ".list-inline>li:not(:last-child)::after {content: \"\\00b7\"; padding: 0 .5ex}\n",
       "</style>\n",
       "<ol class=list-inline><li>-8.46966941026039e-06</li><li>-1.4210854715202e-06</li></ol>\n",
       "</dd>\n",
       "</dl>\n"
      ],
      "text/latex": [
       "\\begin{description}\n",
       "\\item[\\$estimates] \\begin{enumerate*}\n",
       "\\item 2.82829590045413\n",
       "\\item 9.65787116152053\n",
       "\\end{enumerate*}\n",
       "\n",
       "\\item[\\$hessian] A matrix: 2 × 2 of type dbl\n",
       "\\begin{tabular}{ll}\n",
       "\t -1.0800250 & -0.4547474\\\\\n",
       "\t -0.4547474 & -1.9326762\\\\\n",
       "\\end{tabular}\n",
       "\n",
       "\\item[\\$gradient] \\begin{enumerate*}\n",
       "\\item -8.46966941026039e-06\n",
       "\\item -1.4210854715202e-06\n",
       "\\end{enumerate*}\n",
       "\n",
       "\\end{description}\n"
      ],
      "text/markdown": [
       "$estimates\n",
       ":   1. 2.82829590045413\n",
       "2. 9.65787116152053\n",
       "\n",
       "\n",
       "\n",
       "$hessian\n",
       ":   \n",
       "A matrix: 2 × 2 of type dbl\n",
       "\n",
       "| -1.0800250 | -0.4547474 |\n",
       "| -0.4547474 | -1.9326762 |\n",
       "\n",
       "\n",
       "$gradient\n",
       ":   1. -8.46966941026039e-06\n",
       "2. -1.4210854715202e-06\n",
       "\n",
       "\n",
       "\n",
       "\n",
       "\n"
      ],
      "text/plain": [
       "$estimates\n",
       "[1] 2.828296 9.657871\n",
       "\n",
       "$hessian\n",
       "           [,1]       [,2]\n",
       "[1,] -1.0800250 -0.4547474\n",
       "[2,] -0.4547474 -1.9326762\n",
       "\n",
       "$gradient\n",
       "[1] -8.469669e-06 -1.421085e-06\n"
      ]
     },
     "metadata": {},
     "output_type": "display_data"
    }
   ],
   "source": [
    "(mle <- mle_estimator(loglik, maxlik_optimiser)(observ, start_theta))"
   ]
  },
  {
   "cell_type": "markdown",
   "id": "peripheral-trace",
   "metadata": {},
   "source": [
    "intervaliniams įverčiams rasti naudosime asimptotines DT įvertinių savybes:"
   ]
  },
  {
   "cell_type": "code",
   "execution_count": 195,
   "id": "paperback-holiday",
   "metadata": {},
   "outputs": [],
   "source": [
    "mle_asymptotic_ci <- function(mle, sample_size) {\n",
    "    mle_estimates <- mle$estimates\n",
    "    fishers_info <- -1 * mle$hessian\n",
    "    \n",
    "    # Precalculate:\n",
    "    fishers_inverse <- solve(fishers_info)\n",
    "    sqrt_size <- sqrt(sample_size)\n",
    "\n",
    "    function(confidence) {\n",
    "        i <- 1\n",
    "        alpha_half <- (1 - confidence) / 2 \n",
    "\n",
    "        lapply(mle_estimates, function(e) {\n",
    "            variance <- fishers_inverse[i, i]\n",
    "            shift <- sqrt(variance) * qnorm(alpha_half, lower.tail = FALSE) / sqrt_size\n",
    "            i <- i + 1\n",
    "\n",
    "            ci <- list(\n",
    "                lo = e - shift,\n",
    "                hi = e + shift\n",
    "            )\n",
    "                \n",
    "            return(ci)\n",
    "        })\n",
    "    }\n",
    "}"
   ]
  },
  {
   "cell_type": "code",
   "execution_count": 196,
   "id": "later-injury",
   "metadata": {},
   "outputs": [],
   "source": [
    "extreme_minimal_ci <- mle_asymptotic_ci(mle, n)\n",
    "ci89 <- extreme_minimal_ci(0.89)"
   ]
  },
  {
   "cell_type": "code",
   "execution_count": 197,
   "id": "greek-steam",
   "metadata": {},
   "outputs": [
    {
     "data": {
      "text/html": [
       "<table class=\"dataframe\">\n",
       "<caption>A data.frame: 2 × 5</caption>\n",
       "<thead>\n",
       "\t<tr><th scope=col>name</th><th scope=col>actual</th><th scope=col>lo_89</th><th scope=col>ml_estimate</th><th scope=col>hi_89</th></tr>\n",
       "\t<tr><th scope=col>&lt;chr&gt;</th><th scope=col>&lt;dbl&gt;</th><th scope=col>&lt;dbl&gt;</th><th scope=col>&lt;dbl&gt;</th><th scope=col>&lt;dbl&gt;</th></tr>\n",
       "</thead>\n",
       "<tbody>\n",
       "\t<tr><td>mu   </td><td> 5</td><td>2.666276</td><td>2.828296</td><td>2.990315</td></tr>\n",
       "\t<tr><td>sigma</td><td>10</td><td>9.495852</td><td>9.657871</td><td>9.819891</td></tr>\n",
       "</tbody>\n",
       "</table>\n"
      ],
      "text/latex": [
       "A data.frame: 2 × 5\n",
       "\\begin{tabular}{lllll}\n",
       " name & actual & lo\\_89 & ml\\_estimate & hi\\_89\\\\\n",
       " <chr> & <dbl> & <dbl> & <dbl> & <dbl>\\\\\n",
       "\\hline\n",
       "\t mu    &  5 & 2.666276 & 2.828296 & 2.990315\\\\\n",
       "\t sigma & 10 & 9.495852 & 9.657871 & 9.819891\\\\\n",
       "\\end{tabular}\n"
      ],
      "text/markdown": [
       "\n",
       "A data.frame: 2 × 5\n",
       "\n",
       "| name &lt;chr&gt; | actual &lt;dbl&gt; | lo_89 &lt;dbl&gt; | ml_estimate &lt;dbl&gt; | hi_89 &lt;dbl&gt; |\n",
       "|---|---|---|---|---|\n",
       "| mu    |  5 | 2.666276 | 2.828296 | 2.990315 |\n",
       "| sigma | 10 | 9.495852 | 9.657871 | 9.819891 |\n",
       "\n"
      ],
      "text/plain": [
       "  name  actual lo_89    ml_estimate hi_89   \n",
       "1 mu     5     2.666276 2.828296    2.990315\n",
       "2 sigma 10     9.495852 9.657871    9.819891"
      ]
     },
     "metadata": {},
     "output_type": "display_data"
    }
   ],
   "source": [
    "mu_hat_mle <- mle$estimates[1]\n",
    "sigma_hat_mle <- mle$estimates[2]\n",
    "\n",
    "data.frame(\n",
    "    name = c(\"mu\", \"sigma\"),\n",
    "    actual = c(mu, sigma),\n",
    "    lo_89 = c(ci89[[1]]$lo, ci89[[2]]$lo),\n",
    "    ml_estimate = c(mu_hat_mle, sigma_hat_mle),\n",
    "    hi_89 = c(ci89[[1]]$hi, ci89[[2]]$hi) \n",
    ")"
   ]
  },
  {
   "cell_type": "markdown",
   "id": "greek-starter",
   "metadata": {},
   "source": [
    "Pasirinktame taške $t$ įvertinkite pasiskirstymo funkciją ir jos pasikliovimo intervalą."
   ]
  },
  {
   "cell_type": "code",
   "execution_count": 187,
   "id": "accredited-rescue",
   "metadata": {},
   "outputs": [],
   "source": [
    "cdf <- function(theta) {\n",
    "    mu <- theta[1]\n",
    "    sigma <- theta[2]\n",
    "    \n",
    "    function(t) {\n",
    "        1 - exp(-exp((t - mu)/sigma))\n",
    "    }\n",
    "}"
   ]
  },
  {
   "cell_type": "code",
   "execution_count": 228,
   "id": "dutch-belfast",
   "metadata": {},
   "outputs": [],
   "source": [
    "cdf_actual <- cdf(c(mu, sigma))"
   ]
  },
  {
   "cell_type": "code",
   "execution_count": 204,
   "id": "absent-trademark",
   "metadata": {},
   "outputs": [],
   "source": [
    "diff_cdf_mu <- function(theta) {\n",
    "    mu <- theta[1]\n",
    "    sigma <- theta[2]\n",
    "\n",
    "    function (t) {\n",
    "        -exp(-(mu - t)/sigma - exp(-(mu - t)/sigma))/sigma\n",
    "    }\n",
    "}\n",
    "\n",
    "diff_cdf_sigma <- function(theta) {\n",
    "    mu <- theta[1]\n",
    "    sigma <- theta[2]\n",
    "\n",
    "    function(t) {\n",
    "        (mu - t)*exp(-(mu - t)/sigma - exp(-(mu - t)/sigma))/sigma^2\n",
    "    }\n",
    "}"
   ]
  },
  {
   "cell_type": "code",
   "execution_count": 217,
   "id": "humanitarian-territory",
   "metadata": {},
   "outputs": [],
   "source": [
    "variance_effective_estimator <- function(mle, sample_size, partials) {\n",
    "    inverse_hessian <- solve(mle$hessian)\n",
    "\n",
    "    ## Evaluate partial derivatives of the parameter function, that is, plug-in parameter estimates:\n",
    "    partials <- sapply(partials, function(p) { p(mle$estimates) })\n",
    "\n",
    "    function(t) {\n",
    "        ## Evaluate partial derivatives at t:\n",
    "        partials_at_t <- sapply(partials, function(p) { p(t) })\n",
    "        \n",
    "        as.numeric(-sample_size * (t(partials_at_t) %*% inverse_hessian %*% partials_at_t))\n",
    "    }\n",
    "}"
   ]
  },
  {
   "cell_type": "code",
   "execution_count": 218,
   "id": "eastern-passage",
   "metadata": {},
   "outputs": [],
   "source": [
    "var_estim <- variance_effective_estimator(mle, n, c(diff_cdf_mu, diff_cdf_sigma))"
   ]
  },
  {
   "cell_type": "code",
   "execution_count": 234,
   "id": "registered-horizon",
   "metadata": {},
   "outputs": [],
   "source": [
    "asymptotic_ci_estimator <- function(confidence, mle, sample_size, param_f, partials) {\n",
    "    \n",
    "    alpha <- 1 - confidence\n",
    "    critical_value <- qnorm(alpha, mean = 0, sd = 1, lower.tail = FALSE)\n",
    "    param_f_variance <- variance_effective_estimator(mle, sample_size, partials)\n",
    "    f <- param_f(mle$estimates)\n",
    "    \n",
    "    function(t) {\n",
    "        mle_at_t <- f(t)\n",
    "        shift <- sqrt(param_f_variance(t)) * critical_value / sqrt(sample_size)\n",
    "        lo <- mle_at_t - shift\n",
    "        hi <- mle_at_t + shift\n",
    "        \n",
    "        c(lo = lo, mid = mle_at_t, hi = hi)\n",
    "    }\n",
    "}"
   ]
  },
  {
   "cell_type": "code",
   "execution_count": 235,
   "id": "qualified-enforcement",
   "metadata": {},
   "outputs": [],
   "source": [
    "ci_cdf <- asymptotic_ci_estimator(\n",
    "    confidence = .89,\n",
    "    mle = mle,\n",
    "    sample_size = n,\n",
    "    param_f = cdf,\n",
    "    partials = c(diff_cdf_mu, diff_cdf_sigma)\n",
    ")"
   ]
  },
  {
   "cell_type": "code",
   "execution_count": 251,
   "id": "homeless-stomach",
   "metadata": {},
   "outputs": [
    {
     "data": {
      "text/html": [
       "<table class=\"dataframe\">\n",
       "<caption>A data.frame: 6 × 5</caption>\n",
       "<thead>\n",
       "\t<tr><th></th><th scope=col>q</th><th scope=col>actual</th><th scope=col>lo</th><th scope=col>pointwise</th><th scope=col>hi</th></tr>\n",
       "\t<tr><th></th><th scope=col>&lt;dbl&gt;</th><th scope=col>&lt;dbl&gt;</th><th scope=col>&lt;dbl&gt;</th><th scope=col>&lt;dbl&gt;</th><th scope=col>&lt;dbl&gt;</th></tr>\n",
       "</thead>\n",
       "<tbody>\n",
       "\t<tr><th scope=row>95</th><td>17.17719</td><td>0.9659345</td><td>0.9794484</td><td>0.9879434</td><td>0.9964384</td></tr>\n",
       "\t<tr><th scope=row>96</th><td>17.79611</td><td>0.9725459</td><td>0.9840684</td><td>0.9910002</td><td>0.9979320</td></tr>\n",
       "\t<tr><th scope=row>97</th><td>18.41503</td><td>0.9781769</td><td>0.9878619</td><td>0.9934107</td><td>0.9989595</td></tr>\n",
       "\t<tr><th scope=row>98</th><td>19.03395</td><td>0.9829054</td><td>0.9909227</td><td>0.9952741</td><td>0.9996255</td></tr>\n",
       "\t<tr><th scope=row>99</th><td>19.65287</td><td>0.9868165</td><td>0.9933461</td><td>0.9966843</td><td>1.0000224</td></tr>\n",
       "\t<tr><th scope=row>100</th><td>20.27180</td><td>0.9900000</td><td>0.9952262</td><td>0.9977276</td><td>1.0002290</td></tr>\n",
       "</tbody>\n",
       "</table>\n"
      ],
      "text/latex": [
       "A data.frame: 6 × 5\n",
       "\\begin{tabular}{r|lllll}\n",
       "  & q & actual & lo & pointwise & hi\\\\\n",
       "  & <dbl> & <dbl> & <dbl> & <dbl> & <dbl>\\\\\n",
       "\\hline\n",
       "\t95 & 17.17719 & 0.9659345 & 0.9794484 & 0.9879434 & 0.9964384\\\\\n",
       "\t96 & 17.79611 & 0.9725459 & 0.9840684 & 0.9910002 & 0.9979320\\\\\n",
       "\t97 & 18.41503 & 0.9781769 & 0.9878619 & 0.9934107 & 0.9989595\\\\\n",
       "\t98 & 19.03395 & 0.9829054 & 0.9909227 & 0.9952741 & 0.9996255\\\\\n",
       "\t99 & 19.65287 & 0.9868165 & 0.9933461 & 0.9966843 & 1.0000224\\\\\n",
       "\t100 & 20.27180 & 0.9900000 & 0.9952262 & 0.9977276 & 1.0002290\\\\\n",
       "\\end{tabular}\n"
      ],
      "text/markdown": [
       "\n",
       "A data.frame: 6 × 5\n",
       "\n",
       "| <!--/--> | q &lt;dbl&gt; | actual &lt;dbl&gt; | lo &lt;dbl&gt; | pointwise &lt;dbl&gt; | hi &lt;dbl&gt; |\n",
       "|---|---|---|---|---|---|\n",
       "| 95 | 17.17719 | 0.9659345 | 0.9794484 | 0.9879434 | 0.9964384 |\n",
       "| 96 | 17.79611 | 0.9725459 | 0.9840684 | 0.9910002 | 0.9979320 |\n",
       "| 97 | 18.41503 | 0.9781769 | 0.9878619 | 0.9934107 | 0.9989595 |\n",
       "| 98 | 19.03395 | 0.9829054 | 0.9909227 | 0.9952741 | 0.9996255 |\n",
       "| 99 | 19.65287 | 0.9868165 | 0.9933461 | 0.9966843 | 1.0000224 |\n",
       "| 100 | 20.27180 | 0.9900000 | 0.9952262 | 0.9977276 | 1.0002290 |\n",
       "\n"
      ],
      "text/plain": [
       "    q        actual    lo        pointwise hi       \n",
       "95  17.17719 0.9659345 0.9794484 0.9879434 0.9964384\n",
       "96  17.79611 0.9725459 0.9840684 0.9910002 0.9979320\n",
       "97  18.41503 0.9781769 0.9878619 0.9934107 0.9989595\n",
       "98  19.03395 0.9829054 0.9909227 0.9952741 0.9996255\n",
       "99  19.65287 0.9868165 0.9933461 0.9966843 1.0000224\n",
       "100 20.27180 0.9900000 0.9952262 0.9977276 1.0002290"
      ]
     },
     "metadata": {},
     "output_type": "display_data"
    }
   ],
   "source": [
    "qs <- seq(inverse_cdf(c(mu, sigma))(0.01), inverse_cdf(c(mu, sigma))(0.99), length.out = 100)\n",
    "\n",
    "df_cdf <- data.frame(t(sapply(qs, function(q) {\n",
    "    \n",
    "    estim <- unname(ci_cdf(q))\n",
    "    actual <- cdf_actual(q)\n",
    "    \n",
    "    c(\n",
    "        q = q,\n",
    "        actual = actual,\n",
    "        lo = estim[1],\n",
    "        pointwise = estim[2],\n",
    "        hi = estim[3]\n",
    "    )\n",
    "})))\n",
    "\n",
    "tail(df_cdf)"
   ]
  },
  {
   "cell_type": "code",
   "execution_count": 252,
   "id": "crude-suspect",
   "metadata": {},
   "outputs": [
    {
     "data": {
      "image/png": "[encoded data removed]",
      "text/plain": [
       "Plot with title \"89% CI for the estimate of the cumulative distribution function\""
      ]
     },
     "metadata": {
      "image/png": {
       "height": 420,
       "width": 420
      }
     },
     "output_type": "display_data"
    }
   ],
   "source": [
    "plot(df_cdf$q, df_cdf$actual, col = \"black\", type = \"l\", lwd = 3, xlab = \"\", ylab = \"\")\n",
    "lines(df_cdf$q, df_cdf$pointwise, col = \"black\", lwd = 3, lty = 2)\n",
    "lines(df_cdf$q, df_cdf$lo, col = \"blue\", lwd = 2, lty = 1)\n",
    "lines(df_cdf$q, df_cdf$hi, col = \"red\", lwd = 2, lty = 1)\n",
    "title(\n",
    "    main = \"89% CI for the estimate of the cumulative distribution function\",\n",
    "    xlab = \"t\",\n",
    "    ylab = TeX(\"$F(t; \\\\mu, \\\\sigma)$\")\n",
    ")\n",
    "legend(\n",
    "    \"bottomright\",\n",
    "    legend = c(TeX(\"$F(t)$\"), TeX(\"$\\\\hat{F}(t)$\"), TeX(\"lower bound $\\\\hat{F}(t)$\"), TeX(\"upper bound $\\\\hat{F}(t)$\")),\n",
    "    col = c(\"black\", \"black\", \"blue\", \"red\"),\n",
    "    lty = c(1, 2, 1, 1),\n",
    "    lwd = c(3, 3, 2, 2)\n",
    ")"
   ]
  }
 ],
 "metadata": {
  "kernelspec": {
   "display_name": "R",
   "language": "R",
   "name": "ir"
  },
  "language_info": {
   "codemirror_mode": "r",
   "file_extension": ".r",
   "mimetype": "text/x-r-source",
   "name": "R",
   "pygments_lexer": "r",
   "version": "4.0.3"
  }
 },
 "nbformat": 4,
 "nbformat_minor": 5
}
