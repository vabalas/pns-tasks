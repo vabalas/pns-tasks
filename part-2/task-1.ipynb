{
 "cells": [
  {
   "cell_type": "markdown",
   "id": "random-terrorism",
   "metadata": {},
   "source": [
    "# 1. Užduotis\n",
    "\n",
    "Duomenys iš pirmos užduoties 2) punkto, t.y. stebėtas a.d., turintis Veibulo skirstinį su\n",
    "parametrais $\\eta$ ir $\\nu$, t. y. a. d. $T$ pasiskirstymo funkcija yra\n",
    "\n",
    "$$\n",
    "F(t; \\eta, \\nu) = 1 - \\exp{\\{ - {(t / \\eta)}^\\nu \\}},\n",
    "$$\n",
    "\n",
    "gauta didumo $n = 100$ paprastoji atsitiktinė imtis."
   ]
  },
  {
   "cell_type": "code",
   "execution_count": 1,
   "id": "amber-welcome",
   "metadata": {},
   "outputs": [],
   "source": [
    "set.seed(314)\n",
    "\n",
    "n <- 100\n",
    "eta <- 2 # laisvai pasirinkti \n",
    "nu <- 2\n",
    "\n",
    "weibull_inverse_cdf <- function(theta) {\n",
    "    function(probs) {\n",
    "        theta[1] * (-1 * log(1 - probs)) ^ (1 / theta[2])\n",
    "    }\n",
    "}\n",
    "\n",
    "observ <- weibull_inverse_cdf(c(eta, nu))(runif(n))"
   ]
  },
  {
   "cell_type": "markdown",
   "id": "sudden-bolivia",
   "metadata": {},
   "source": [
    "**Pastaba:** Taškiniai įverčiai buvo rasti pirmoje užduotyje."
   ]
  },
  {
   "cell_type": "code",
   "execution_count": 2,
   "id": "liable-genealogy",
   "metadata": {},
   "outputs": [],
   "source": [
    "# Analogiškai pirmosios dalies antrai užduočiai:\n",
    "gamma <- 0.5772156 \n",
    "sigma_hat_moment <- function(x) { sqrt(6 * var(x)) / pi }\n",
    "mu_hat_moment <- function(x) { mean(x) + gamma * sigma_hat_moment(x) }"
   ]
  },
  {
   "cell_type": "code",
   "execution_count": 3,
   "id": "nasty-darkness",
   "metadata": {},
   "outputs": [
    {
     "data": {
      "text/html": [
       "1.82073943734432"
      ],
      "text/latex": [
       "1.82073943734432"
      ],
      "text/markdown": [
       "1.82073943734432"
      ],
      "text/plain": [
       "[1] 1.820739"
      ]
     },
     "metadata": {},
     "output_type": "display_data"
    },
    {
     "data": {
      "text/html": [
       "1.91928653857915"
      ],
      "text/latex": [
       "1.91928653857915"
      ],
      "text/markdown": [
       "1.91928653857915"
      ],
      "text/plain": [
       "[1] 1.919287"
      ]
     },
     "metadata": {},
     "output_type": "display_data"
    }
   ],
   "source": [
    "(start_eta <- exp(mu_hat_moment(log(observ))))\n",
    "(start_nu <- 1 / sigma_hat_moment(log(observ)))"
   ]
  },
  {
   "cell_type": "code",
   "execution_count": 4,
   "id": "demanding-malta",
   "metadata": {},
   "outputs": [],
   "source": [
    "weibull_loglik <- function(observ) {\n",
    "    log_sum <- sum(log(observ))\n",
    "    n <- length(observ)\n",
    "\n",
    "    function(theta) {\n",
    "        eta <- theta[1]\n",
    "        nu <- theta[2]\n",
    "        \n",
    "        n * (log(eta) - log(nu))\n",
    "        - (1 / nu^eta) * sum(observ^eta)\n",
    "        + (eta - 1) * (log_sum - n * log(nu))\n",
    "    }\n",
    "}\n",
    "\n",
    "optim_optimiser <- function(f, start) {\n",
    "    mle <- stats::optim(\n",
    "        start, f,\n",
    "        method = \"L-BFGS-B\",\n",
    "        hessian = TRUE\n",
    "    )\n",
    "    r <- list(\n",
    "        estimates = mle$par,\n",
    "        hessian = mle$hessian\n",
    "    )\n",
    "    return(r)\n",
    "}\n",
    "\n",
    "mle_estimator <- function(loglikelihood, optimiser) {\n",
    "    function(data, start) {\n",
    "        optimiser(loglikelihood(data), start)\n",
    "    }\n",
    "}\n",
    "\n",
    "weibull_mle_estimator <- mle_estimator(weibull_loglik, optim_optimiser)"
   ]
  },
  {
   "cell_type": "code",
   "execution_count": 5,
   "id": "sunset-granny",
   "metadata": {},
   "outputs": [
    {
     "data": {
      "text/html": [
       "<dl>\n",
       "\t<dt>$estimates</dt>\n",
       "\t\t<dd><style>\n",
       ".list-inline {list-style: none; margin:0; padding: 0}\n",
       ".list-inline>li {display: inline-block}\n",
       ".list-inline>li:not(:last-child)::after {content: \"\\00b7\"; padding: 0 .5ex}\n",
       "</style>\n",
       "<ol class=list-inline><li>1.82073943734432</li><li>1.91928653857915</li></ol>\n",
       "</dd>\n",
       "\t<dt>$hessian</dt>\n",
       "\t\t<dd><table class=\"dataframe\">\n",
       "<caption>A matrix: 2 × 2 of type dbl</caption>\n",
       "<tbody>\n",
       "\t<tr><td>-8.881784e-10</td><td>-52.10270</td></tr>\n",
       "\t<tr><td>-5.210270e+01</td><td> 22.28055</td></tr>\n",
       "</tbody>\n",
       "</table>\n",
       "</dd>\n",
       "</dl>\n"
      ],
      "text/latex": [
       "\\begin{description}\n",
       "\\item[\\$estimates] \\begin{enumerate*}\n",
       "\\item 1.82073943734432\n",
       "\\item 1.91928653857915\n",
       "\\end{enumerate*}\n",
       "\n",
       "\\item[\\$hessian] A matrix: 2 × 2 of type dbl\n",
       "\\begin{tabular}{ll}\n",
       "\t -8.881784e-10 & -52.10270\\\\\n",
       "\t -5.210270e+01 &  22.28055\\\\\n",
       "\\end{tabular}\n",
       "\n",
       "\\end{description}\n"
      ],
      "text/markdown": [
       "$estimates\n",
       ":   1. 1.82073943734432\n",
       "2. 1.91928653857915\n",
       "\n",
       "\n",
       "\n",
       "$hessian\n",
       ":   \n",
       "A matrix: 2 × 2 of type dbl\n",
       "\n",
       "| -8.881784e-10 | -52.10270 |\n",
       "| -5.210270e+01 |  22.28055 |\n",
       "\n",
       "\n",
       "\n",
       "\n"
      ],
      "text/plain": [
       "$estimates\n",
       "[1] 1.820739 1.919287\n",
       "\n",
       "$hessian\n",
       "              [,1]      [,2]\n",
       "[1,] -8.881784e-10 -52.10270\n",
       "[2,] -5.210270e+01  22.28055\n"
      ]
     },
     "metadata": {},
     "output_type": "display_data"
    }
   ],
   "source": [
    "(theta_hat_mle <- weibull_mle_estimator(observ, c(start_eta, start_nu)))"
   ]
  },
  {
   "cell_type": "markdown",
   "id": "herbal-month",
   "metadata": {},
   "source": [
    "a) Raskite stebėtą Fišerio informacinę matricą."
   ]
  },
  {
   "cell_type": "code",
   "execution_count": 11,
   "id": "human-watershed",
   "metadata": {},
   "outputs": [
    {
     "data": {
      "text/html": [
       "<table class=\"dataframe\">\n",
       "<caption>A matrix: 2 × 2 of type dbl</caption>\n",
       "<tbody>\n",
       "\t<tr><td>8.881784e-10</td><td> 52.10270</td></tr>\n",
       "\t<tr><td>5.210270e+01</td><td>-22.28055</td></tr>\n",
       "</tbody>\n",
       "</table>\n"
      ],
      "text/latex": [
       "A matrix: 2 × 2 of type dbl\n",
       "\\begin{tabular}{ll}\n",
       "\t 8.881784e-10 &  52.10270\\\\\n",
       "\t 5.210270e+01 & -22.28055\\\\\n",
       "\\end{tabular}\n"
      ],
      "text/markdown": [
       "\n",
       "A matrix: 2 × 2 of type dbl\n",
       "\n",
       "| 8.881784e-10 |  52.10270 |\n",
       "| 5.210270e+01 | -22.28055 |\n",
       "\n"
      ],
      "text/plain": [
       "     [,1]         [,2]     \n",
       "[1,] 8.881784e-10  52.10270\n",
       "[2,] 5.210270e+01 -22.28055"
      ]
     },
     "metadata": {},
     "output_type": "display_data"
    }
   ],
   "source": [
    "(fishers_info <- -1 * theta_hat_mle$hessian)"
   ]
  },
  {
   "cell_type": "markdown",
   "id": "modified-collect",
   "metadata": {},
   "source": [
    "b) Raskite parametrų pasikliovimo intervalus. Rezultatus (tikros parametrų reikšmės,\n",
    "taškiniai įverčiai ir pasikliovimo intervalai) pateikite duomenų lentelėje (dataframe)."
   ]
  },
  {
   "cell_type": "markdown",
   "id": "included-gateway",
   "metadata": {},
   "source": [
    "Pasinaudosime Didžiausio Tikėtinumo įvertinių asimptotiniu normalumu:"
   ]
  },
  {
   "cell_type": "code",
   "execution_count": 30,
   "id": "turkish-rally",
   "metadata": {},
   "outputs": [],
   "source": [
    "mle_asymptotic_ci <- function(mle, sample_size) {\n",
    "    mle_estimates <- mle$estimates\n",
    "    fishers_info <- -1 * mle$hessian\n",
    "    \n",
    "    # Precalculate:\n",
    "    fishers_inverse <- solve(fishers_info)\n",
    "    sqrt_size <- sqrt(sample_size)\n",
    "\n",
    "    function(confidence) {\n",
    "        i <- 1\n",
    "        alpha_half <- (1 - confidence) / 2 \n",
    "\n",
    "        lapply(mle_estimates, function(e) {\n",
    "            variance <- fishers_inverse[i, i]\n",
    "            bias <- sqrt(variance) * qnorm(alpha_half, lower.tail = FALSE) / sqrt_size\n",
    "            i <- i + 1\n",
    "\n",
    "            ci <- list(\n",
    "                lo = e - bias,\n",
    "                hi = e + bias\n",
    "            )\n",
    "                \n",
    "            return(ci)\n",
    "        })\n",
    "    }\n",
    "}"
   ]
  },
  {
   "cell_type": "code",
   "execution_count": 54,
   "id": "statutory-alabama",
   "metadata": {},
   "outputs": [],
   "source": [
    "weibull_ci <- mle_asymptotic_ci(theta_hat_mle, n)\n",
    "ci95 <- weibull_ci(0.87)"
   ]
  },
  {
   "cell_type": "code",
   "execution_count": 55,
   "id": "spatial-spice",
   "metadata": {},
   "outputs": [
    {
     "data": {
      "text/html": [
       "<table class=\"dataframe\">\n",
       "<caption>A data.frame: 2 × 5</caption>\n",
       "<thead>\n",
       "\t<tr><th scope=col>name</th><th scope=col>actual</th><th scope=col>lo_95</th><th scope=col>ml_estimate</th><th scope=col>hi_95</th></tr>\n",
       "\t<tr><th scope=col>&lt;chr&gt;</th><th scope=col>&lt;dbl&gt;</th><th scope=col>&lt;dbl&gt;</th><th scope=col>&lt;dbl&gt;</th><th scope=col>&lt;dbl&gt;</th></tr>\n",
       "</thead>\n",
       "<tbody>\n",
       "\t<tr><td>eta</td><td>2</td><td>1.807022</td><td>1.820739</td><td>1.834456</td></tr>\n",
       "\t<tr><td>nu </td><td>2</td><td>1.905570</td><td>1.919287</td><td>1.933003</td></tr>\n",
       "</tbody>\n",
       "</table>\n"
      ],
      "text/latex": [
       "A data.frame: 2 × 5\n",
       "\\begin{tabular}{lllll}\n",
       " name & actual & lo\\_95 & ml\\_estimate & hi\\_95\\\\\n",
       " <chr> & <dbl> & <dbl> & <dbl> & <dbl>\\\\\n",
       "\\hline\n",
       "\t eta & 2 & 1.807022 & 1.820739 & 1.834456\\\\\n",
       "\t nu  & 2 & 1.905570 & 1.919287 & 1.933003\\\\\n",
       "\\end{tabular}\n"
      ],
      "text/markdown": [
       "\n",
       "A data.frame: 2 × 5\n",
       "\n",
       "| name &lt;chr&gt; | actual &lt;dbl&gt; | lo_95 &lt;dbl&gt; | ml_estimate &lt;dbl&gt; | hi_95 &lt;dbl&gt; |\n",
       "|---|---|---|---|---|\n",
       "| eta | 2 | 1.807022 | 1.820739 | 1.834456 |\n",
       "| nu  | 2 | 1.905570 | 1.919287 | 1.933003 |\n",
       "\n"
      ],
      "text/plain": [
       "  name actual lo_95    ml_estimate hi_95   \n",
       "1 eta  2      1.807022 1.820739    1.834456\n",
       "2 nu   2      1.905570 1.919287    1.933003"
      ]
     },
     "metadata": {},
     "output_type": "display_data"
    }
   ],
   "source": [
    "data.frame(\n",
    "    name = c(\"eta\", \"nu\"),\n",
    "    actual = c(eta, nu),\n",
    "    lo_95 = c(ci95[[1]]$lo, ci95[[2]]$lo),\n",
    "    ml_estimate = c(theta_hat_mle$estimates[1], theta_hat_mle$estimates[2]),\n",
    "    hi_95 = c(ci95[[1]]$hi, ci95[[2]]$hi) \n",
    ")"
   ]
  },
  {
   "cell_type": "markdown",
   "id": "phantom-southeast",
   "metadata": {},
   "source": [
    "c) Raskite tikimybės, kad stebėtas a.d. įgis reikšmę didesnę už $t$, pasikliovimo intervalą.\n",
    "Rezultatus ($t$, tikra tikimybės reikšmė, tikimybės įvertis, pasikliovimo lygmuo, pasikliovimo\n",
    "intervalas) pateikite duomenų lentelėje (dataframe)."
   ]
  },
  {
   "cell_type": "code",
   "execution_count": null,
   "id": "pleasant-battle",
   "metadata": {},
   "outputs": [],
   "source": []
  },
  {
   "cell_type": "markdown",
   "id": "declared-palestinian",
   "metadata": {},
   "source": [
    "d) Raskite intervalinį medianos įvertį. Rezultatus (tikra medianos reikšmė, taškinis\n",
    "įvertis, pasikliovimo lygmuo ir pasikliovimo intervalas) pateikite duomenų lentelėje (dataframe)."
   ]
  },
  {
   "cell_type": "code",
   "execution_count": null,
   "id": "arctic-person",
   "metadata": {},
   "outputs": [],
   "source": []
  },
  {
   "cell_type": "markdown",
   "id": "american-canada",
   "metadata": {},
   "source": [
    "e) Raskite $p$-ojo kvantilio pasikliovimo intervalą. Rezultatus (kvantilio lygmuo $p$, tikra\n",
    "kvantilio reikšmė, taškinis įvertis, pasikliovimo lygmuo ir pasikliovimo intervalas) pateikite\n",
    "duomenų lentelėje (dataframe)"
   ]
  },
  {
   "cell_type": "code",
   "execution_count": null,
   "id": "stopped-dressing",
   "metadata": {},
   "outputs": [],
   "source": []
  }
 ],
 "metadata": {
  "kernelspec": {
   "display_name": "R",
   "language": "R",
   "name": "ir"
  },
  "language_info": {
   "codemirror_mode": "r",
   "file_extension": ".r",
   "mimetype": "text/x-r-source",
   "name": "R",
   "pygments_lexer": "r",
   "version": "4.0.3"
  }
 },
 "nbformat": 4,
 "nbformat_minor": 5
}
