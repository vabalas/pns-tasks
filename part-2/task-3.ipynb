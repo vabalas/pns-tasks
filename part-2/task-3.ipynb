{
 "cells": [
  {
   "cell_type": "markdown",
   "id": "objective-pearl",
   "metadata": {},
   "source": [
    "# 3. Užduotis"
   ]
  },
  {
   "cell_type": "markdown",
   "id": "traditional-cattle",
   "metadata": {},
   "source": [
    "Duomenys iš pirmos užduoties 3) punkto, t.y. a.d. $X$, turinčio binominį skirstinį su\n",
    "parametrais $k$ ir $p$, t. y.\n",
    "\n",
    "$$\n",
    "P(X = m | k, p) = C^k_m p^m {(1 − p)}^{k−m},\n",
    "$$\n",
    "\n",
    "dydžio $n = 50$ paprastoji atsitiktinė imtis."
   ]
  },
  {
   "cell_type": "code",
   "execution_count": 7,
   "id": "useful-scenario",
   "metadata": {},
   "outputs": [],
   "source": [
    "set.seed(314)\n",
    "\n",
    "n <- 50\n",
    "\n",
    "k <- 20\n",
    "p <- 0.4\n",
    "\n",
    "observ <- rbinom(n, k, p)"
   ]
  },
  {
   "cell_type": "markdown",
   "id": "fabulous-thing",
   "metadata": {},
   "source": [
    "Didžiausio tikėtinumo metodu rasime parametru įverčius:"
   ]
  },
  {
   "cell_type": "code",
   "execution_count": 8,
   "id": "portuguese-mandate",
   "metadata": {},
   "outputs": [],
   "source": [
    "loglik <- function(observations) {\n",
    "    function(theta) {\n",
    "        p <- theta[1]\n",
    "     \n",
    "        sum(\n",
    "            log(choose(k, observations))\n",
    "            + log(p) * observations\n",
    "            + log(1 - p) * (k - observations)\n",
    "        )\n",
    "    }\n",
    "}"
   ]
  },
  {
   "cell_type": "code",
   "execution_count": 9,
   "id": "primary-finnish",
   "metadata": {},
   "outputs": [],
   "source": [
    "maxlik_optimiser <- function(f, start) {\n",
    "    suppressPackageStartupMessages(require(maxLik))\n",
    "    mle <- maxLik::maxLik(logLik = f, start = start)\n",
    "    r <- list(\n",
    "        estimates = coef(mle),\n",
    "        hessian = hessian(mle),\n",
    "        gradient = gradient(mle)\n",
    "    )\n",
    "    return(r)\n",
    "}\n",
    "\n",
    "mle_estimator <- function(loglikelihood, optimiser) {\n",
    "    function(data, start) {\n",
    "        optimiser(loglikelihood(data), start)\n",
    "    }\n",
    "}"
   ]
  },
  {
   "cell_type": "code",
   "execution_count": 10,
   "id": "exposed-culture",
   "metadata": {},
   "outputs": [
    {
     "data": {
      "text/html": [
       "0.1464"
      ],
      "text/latex": [
       "0.1464"
      ],
      "text/markdown": [
       "0.1464"
      ],
      "text/plain": [
       "[1] 0.1464"
      ]
     },
     "metadata": {},
     "output_type": "display_data"
    }
   ],
   "source": [
    "moment_estimator <- function(observations) {\n",
    "    mean(observations) / length(observations)\n",
    "}\n",
    "\n",
    "(start_theta <- moment_estimator(observ))"
   ]
  },
  {
   "cell_type": "code",
   "execution_count": 11,
   "id": "universal-patch",
   "metadata": {},
   "outputs": [
    {
     "data": {
      "text/html": [
       "<dl>\n",
       "\t<dt>$estimates</dt>\n",
       "\t\t<dd>0.365999999929961</dd>\n",
       "\t<dt>$hessian</dt>\n",
       "\t\t<dd><table class=\"dataframe\">\n",
       "<caption>A matrix: 1 × 1 of type dbl</caption>\n",
       "<tbody>\n",
       "\t<tr><td>-4309.442</td></tr>\n",
       "</tbody>\n",
       "</table>\n",
       "</dd>\n",
       "\t<dt>$gradient</dt>\n",
       "\t\t<dd>4.54747350886464e-07</dd>\n",
       "</dl>\n"
      ],
      "text/latex": [
       "\\begin{description}\n",
       "\\item[\\$estimates] 0.365999999929961\n",
       "\\item[\\$hessian] A matrix: 1 × 1 of type dbl\n",
       "\\begin{tabular}{l}\n",
       "\t -4309.442\\\\\n",
       "\\end{tabular}\n",
       "\n",
       "\\item[\\$gradient] 4.54747350886464e-07\n",
       "\\end{description}\n"
      ],
      "text/markdown": [
       "$estimates\n",
       ":   0.365999999929961\n",
       "$hessian\n",
       ":   \n",
       "A matrix: 1 × 1 of type dbl\n",
       "\n",
       "| -4309.442 |\n",
       "\n",
       "\n",
       "$gradient\n",
       ":   4.54747350886464e-07\n",
       "\n",
       "\n"
      ],
      "text/plain": [
       "$estimates\n",
       "[1] 0.366\n",
       "\n",
       "$hessian\n",
       "          [,1]\n",
       "[1,] -4309.442\n",
       "\n",
       "$gradient\n",
       "[1] 4.547474e-07\n"
      ]
     },
     "metadata": {},
     "output_type": "display_data"
    }
   ],
   "source": [
    "(mle <- mle_estimator(loglik, maxlik_optimiser)(observ, start_theta))"
   ]
  },
  {
   "cell_type": "markdown",
   "id": "hindu-habitat",
   "metadata": {},
   "source": [
    "Raskite tikslų parametro $p$ pasikliovimo intervalą\n",
    "naudodami beta skirstinio kvantilius."
   ]
  },
  {
   "cell_type": "code",
   "execution_count": 12,
   "id": "comprehensive-economics",
   "metadata": {},
   "outputs": [
    {
     "data": {
      "text/html": [
       "0.025"
      ],
      "text/latex": [
       "0.025"
      ],
      "text/markdown": [
       "0.025"
      ],
      "text/plain": [
       "[1] 0.025"
      ]
     },
     "metadata": {},
     "output_type": "display_data"
    }
   ],
   "source": [
    "confidence <- 0.95\n",
    "alpha <- 1 - confidence\n",
    "alpha / 2"
   ]
  },
  {
   "cell_type": "markdown",
   "id": "legal-galaxy",
   "metadata": {},
   "source": [
    "Remsimės pavyzdžiu iš vadovėlio 141-142 psl."
   ]
  },
  {
   "cell_type": "code",
   "execution_count": 15,
   "id": "infectious-feedback",
   "metadata": {},
   "outputs": [
    {
     "data": {
      "text/html": [
       "<table class=\"dataframe\">\n",
       "<caption>A data.frame: 1 × 4</caption>\n",
       "<thead>\n",
       "\t<tr><th scope=col>p</th><th scope=col>p_lo</th><th scope=col>p_hat</th><th scope=col>p_hi</th></tr>\n",
       "\t<tr><th scope=col>&lt;dbl&gt;</th><th scope=col>&lt;dbl&gt;</th><th scope=col>&lt;dbl&gt;</th><th scope=col>&lt;dbl&gt;</th></tr>\n",
       "</thead>\n",
       "<tbody>\n",
       "\t<tr><td>0.4</td><td>0.3360757</td><td>0.366</td><td>0.3967159</td></tr>\n",
       "</tbody>\n",
       "</table>\n"
      ],
      "text/latex": [
       "A data.frame: 1 × 4\n",
       "\\begin{tabular}{llll}\n",
       " p & p\\_lo & p\\_hat & p\\_hi\\\\\n",
       " <dbl> & <dbl> & <dbl> & <dbl>\\\\\n",
       "\\hline\n",
       "\t 0.4 & 0.3360757 & 0.366 & 0.3967159\\\\\n",
       "\\end{tabular}\n"
      ],
      "text/markdown": [
       "\n",
       "A data.frame: 1 × 4\n",
       "\n",
       "| p &lt;dbl&gt; | p_lo &lt;dbl&gt; | p_hat &lt;dbl&gt; | p_hi &lt;dbl&gt; |\n",
       "|---|---|---|---|\n",
       "| 0.4 | 0.3360757 | 0.366 | 0.3967159 |\n",
       "\n"
      ],
      "text/plain": [
       "  p   p_lo      p_hat p_hi     \n",
       "1 0.4 0.3360757 0.366 0.3967159"
      ]
     },
     "metadata": {},
     "output_type": "display_data"
    }
   ],
   "source": [
    "complete_statistic <- sum(observ)\n",
    "p_lo <- 1 - qbeta(1 - alpha/2, n * k - complete_statistic + 1, complete_statistic)\n",
    "p_hi <- 1 - qbeta(alpha/2, n * k - complete_statistic, complete_statistic + 1) \n",
    "p_hat <- mle$estimates[1]\n",
    "data.frame(p, p_lo, p_hat,p_hi)"
   ]
  }
 ],
 "metadata": {
  "kernelspec": {
   "display_name": "R",
   "language": "R",
   "name": "ir"
  },
  "language_info": {
   "codemirror_mode": "r",
   "file_extension": ".r",
   "mimetype": "text/x-r-source",
   "name": "R",
   "pygments_lexer": "r",
   "version": "4.0.3"
  }
 },
 "nbformat": 4,
 "nbformat_minor": 5
}
