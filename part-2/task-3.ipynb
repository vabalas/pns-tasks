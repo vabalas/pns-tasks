{
 "cells": [
  {
   "cell_type": "markdown",
   "id": "assisted-austin",
   "metadata": {},
   "source": [
    "# 3. Užduotis"
   ]
  },
  {
   "cell_type": "markdown",
   "id": "secondary-empty",
   "metadata": {},
   "source": [
    "Duomenys iš pirmos užduoties 3) punkto, t.y. a.d. $X$, turinčio binominį skirstinį su\n",
    "parametrais $k$ ir $p$, t. y.\n",
    "\n",
    "$$\n",
    "P(X = m | k, p) = C^k_m p^m {(1 − p)}^{k−m},\n",
    "$$\n",
    "\n",
    "dydžio $n = 50$ paprastoji atsitiktinė imtis. Raskite tikslų parametro $p$ pasikliovimo intervalą\n",
    "naudodami beta skirstinio kvantilius."
   ]
  },
  {
   "cell_type": "code",
   "execution_count": null,
   "id": "different-winning",
   "metadata": {},
   "outputs": [],
   "source": []
  }
 ],
 "metadata": {
  "kernelspec": {
   "display_name": "R",
   "language": "R",
   "name": "ir"
  },
  "language_info": {
   "codemirror_mode": "r",
   "file_extension": ".r",
   "mimetype": "text/x-r-source",
   "name": "R",
   "pygments_lexer": "r",
   "version": "4.0.3"
  }
 },
 "nbformat": 4,
 "nbformat_minor": 5
}
