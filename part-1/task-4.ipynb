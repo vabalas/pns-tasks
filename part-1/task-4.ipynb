{
 "cells": [
  {
   "cell_type": "markdown",
   "id": "maritime-yahoo",
   "metadata": {},
   "source": [
    "# 4. Užduotis"
   ]
  },
  {
   "cell_type": "code",
   "execution_count": 7,
   "id": "expected-concord",
   "metadata": {},
   "outputs": [],
   "source": [
    "set.seed(314)"
   ]
  },
  {
   "cell_type": "markdown",
   "id": "adjacent-forth",
   "metadata": {},
   "source": [
    "Duomenys"
   ]
  },
  {
   "cell_type": "code",
   "execution_count": 15,
   "id": "traditional-patient",
   "metadata": {},
   "outputs": [
    {
     "data": {
      "text/html": [
       "<table class=\"dataframe\">\n",
       "<caption>A data.frame: 11 × 4</caption>\n",
       "<thead>\n",
       "\t<tr><th scope=col>i</th><th scope=col>a_i_1</th><th scope=col>a_i</th><th scope=col>U_i</th></tr>\n",
       "\t<tr><th scope=col>&lt;int&gt;</th><th scope=col>&lt;dbl&gt;</th><th scope=col>&lt;dbl&gt;</th><th scope=col>&lt;dbl&gt;</th></tr>\n",
       "</thead>\n",
       "<tbody>\n",
       "\t<tr><td> 1</td><td>   0</td><td> 100</td><td> 8</td></tr>\n",
       "\t<tr><td> 2</td><td> 100</td><td> 200</td><td>12</td></tr>\n",
       "\t<tr><td> 3</td><td> 200</td><td> 300</td><td>19</td></tr>\n",
       "\t<tr><td> 4</td><td> 300</td><td> 400</td><td>23</td></tr>\n",
       "\t<tr><td> 5</td><td> 400</td><td> 500</td><td>29</td></tr>\n",
       "\t<tr><td> 6</td><td> 500</td><td> 600</td><td>30</td></tr>\n",
       "\t<tr><td> 7</td><td> 600</td><td> 700</td><td>25</td></tr>\n",
       "\t<tr><td> 8</td><td> 700</td><td> 800</td><td>18</td></tr>\n",
       "\t<tr><td> 9</td><td> 800</td><td> 900</td><td>15</td></tr>\n",
       "\t<tr><td>10</td><td> 900</td><td>1000</td><td>14</td></tr>\n",
       "\t<tr><td>11</td><td>1000</td><td> Inf</td><td>18</td></tr>\n",
       "</tbody>\n",
       "</table>\n"
      ],
      "text/latex": [
       "A data.frame: 11 × 4\n",
       "\\begin{tabular}{llll}\n",
       " i & a\\_i\\_1 & a\\_i & U\\_i\\\\\n",
       " <int> & <dbl> & <dbl> & <dbl>\\\\\n",
       "\\hline\n",
       "\t  1 &    0 &  100 &  8\\\\\n",
       "\t  2 &  100 &  200 & 12\\\\\n",
       "\t  3 &  200 &  300 & 19\\\\\n",
       "\t  4 &  300 &  400 & 23\\\\\n",
       "\t  5 &  400 &  500 & 29\\\\\n",
       "\t  6 &  500 &  600 & 30\\\\\n",
       "\t  7 &  600 &  700 & 25\\\\\n",
       "\t  8 &  700 &  800 & 18\\\\\n",
       "\t  9 &  800 &  900 & 15\\\\\n",
       "\t 10 &  900 & 1000 & 14\\\\\n",
       "\t 11 & 1000 &  Inf & 18\\\\\n",
       "\\end{tabular}\n"
      ],
      "text/markdown": [
       "\n",
       "A data.frame: 11 × 4\n",
       "\n",
       "| i &lt;int&gt; | a_i_1 &lt;dbl&gt; | a_i &lt;dbl&gt; | U_i &lt;dbl&gt; |\n",
       "|---|---|---|---|\n",
       "|  1 |    0 |  100 |  8 |\n",
       "|  2 |  100 |  200 | 12 |\n",
       "|  3 |  200 |  300 | 19 |\n",
       "|  4 |  300 |  400 | 23 |\n",
       "|  5 |  400 |  500 | 29 |\n",
       "|  6 |  500 |  600 | 30 |\n",
       "|  7 |  600 |  700 | 25 |\n",
       "|  8 |  700 |  800 | 18 |\n",
       "|  9 |  800 |  900 | 15 |\n",
       "| 10 |  900 | 1000 | 14 |\n",
       "| 11 | 1000 |  Inf | 18 |\n",
       "\n"
      ],
      "text/plain": [
       "   i  a_i_1 a_i  U_i\n",
       "1   1    0   100  8 \n",
       "2   2  100   200 12 \n",
       "3   3  200   300 19 \n",
       "4   4  300   400 23 \n",
       "5   5  400   500 29 \n",
       "6   6  500   600 30 \n",
       "7   7  600   700 25 \n",
       "8   8  700   800 18 \n",
       "9   9  800   900 15 \n",
       "10 10  900  1000 14 \n",
       "11 11 1000   Inf 18 "
      ]
     },
     "metadata": {},
     "output_type": "display_data"
    }
   ],
   "source": [
    "(data <- data.frame(\n",
    "    i = 1:11,\n",
    "    a_i_1 = c(0, 100, 200, 300, 400, 500, 600, 700, 800, 900, 1000),\n",
    "    a_i = c(100, 200, 300, 400, 500, 600, 700, 800, 900, 1000, Inf),\n",
    "    U_i = c(8, 12, 19, 23, 29, 30, 25, 18, 15, 14, 18)\n",
    "))\n"
   ]
  },
  {
   "cell_type": "markdown",
   "id": "broad-bundle",
   "metadata": {},
   "source": [
    "Tarę, kad buvo stebėtas a. d., turinti Veibulo skirstinį, įvertinkite nežinomus parametrus."
   ]
  },
  {
   "cell_type": "markdown",
   "id": "sexual-gates",
   "metadata": {},
   "source": [
    "$$\n",
    "L(\\theta) = \\frac{n!}{Z_{n_1}! Z_{n_2}! \\ldots Z_{n_N}!} {p_1}^{Z_{n_1}}(\\theta) {p_2}^{Z_{n_2}}(\\theta) \\ldots {p_N}^{Z_{n_N}}(\\theta)\n",
    "$$\n",
    "\n",
    "\n",
    "Čia $Z_{n_i}$ atitinka $U_i$. Naudodami uždavinio sąlygos pažymėjimus ir atmettę dėmenis, į kuriuos neįeina parametrai, gauname funkciją, kurią reikia maksimizuoti:\n",
    "\n",
    "$$\n",
    "l^* = \\sum_{i=1}^k U_i \\ln{(p_i (\\eta, \\nu))} = \\sum_{i=1}^k U_i \\ln{(F(a_i; \\eta, \\nu) - F(a_{i-1}; \\eta, \\nu))},\n",
    "$$\n",
    "\n",
    "čia $F(t; \\eta, \\nu)  = 1 - \\exp{\\{-{(t / \\eta)}^\\nu\\}}$ yra Veibulo pasiskirstymo funkcija, $k$ - intervalų skaičius (11)."
   ]
  },
  {
   "cell_type": "code",
   "execution_count": 16,
   "id": "prime-pittsburgh",
   "metadata": {},
   "outputs": [],
   "source": [
    "k <- 11 \n",
    "\n",
    "target_f <- function(theta) {\n",
    "    eta <- theta[1]\n",
    "    nu <- theta[2]\n",
    "    \n",
    "    N <- k - 1\n",
    "    \n",
    "    s_1 <- data$U_i[1] * log(\n",
    "        pweibull(data$a_i[1], shape = nu, scale = eta, lower.tail = TRUE)\n",
    "    )\n",
    "     \n",
    "    s_middle <- sum(\n",
    "        data$U_i[2:N] * log(\n",
    "            pweibull(data$a_i[2:N], shape = nu, scale = eta, lower.tail = TRUE)\n",
    "            - pweibull(data$a_i_1[2:N], shape = nu, scale = eta, lower.tail = TRUE)\n",
    "        )\n",
    "    )\n",
    "\n",
    "    s_k <- data$U_i[k] * log(\n",
    "        1 - pweibull(data$a_i_1[k], shape = nu, scale = eta, lower.tail = TRUE)\n",
    "    )\n",
    "\n",
    "    return(s_1 + s_middle + s_k)\n",
    "}"
   ]
  },
  {
   "cell_type": "code",
   "execution_count": 17,
   "id": "disabled-danish",
   "metadata": {},
   "outputs": [
    {
     "data": {
      "text/html": [
       "<style>\n",
       ".list-inline {list-style: none; margin:0; padding: 0}\n",
       ".list-inline>li {display: inline-block}\n",
       ".list-inline>li:not(:last-child)::after {content: \"\\00b7\"; padding: 0 .5ex}\n",
       "</style>\n",
       "<ol class=list-inline><li>649.273148207046</li><li>1.99953519362029</li></ol>\n"
      ],
      "text/latex": [
       "\\begin{enumerate*}\n",
       "\\item 649.273148207046\n",
       "\\item 1.99953519362029\n",
       "\\end{enumerate*}\n"
      ],
      "text/markdown": [
       "1. 649.273148207046\n",
       "2. 1.99953519362029\n",
       "\n",
       "\n"
      ],
      "text/plain": [
       "[1] 649.273148   1.999535"
      ]
     },
     "metadata": {},
     "output_type": "display_data"
    }
   ],
   "source": [
    "mle <- maxLik::maxLik(logLik = target_f, start = c(650, 2)) # WTF kaip parinkti startai?\n",
    "coef(mle) "
   ]
  }
 ],
 "metadata": {
  "kernelspec": {
   "display_name": "R",
   "language": "R",
   "name": "ir"
  },
  "language_info": {
   "codemirror_mode": "r",
   "file_extension": ".r",
   "mimetype": "text/x-r-source",
   "name": "R",
   "pygments_lexer": "r",
   "version": "4.0.3"
  }
 },
 "nbformat": 4,
 "nbformat_minor": 5
}
