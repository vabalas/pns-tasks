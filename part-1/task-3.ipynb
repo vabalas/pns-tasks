{
 "cells": [
  {
   "cell_type": "markdown",
   "id": "elect-scientist",
   "metadata": {},
   "source": [
    "# 3. Užduotis\n",
    "\n",
    "Modeliuokite a. d. $X$, turinčio binominį skirstinį su parametrais $k$ ir $p$, t. y.\n",
    "\n",
    "$$\n",
    "P(X = m | k, p) = C^m_k  p^m (1 − p)^{k−m},\n",
    "$$\n",
    "\n",
    "dydžio $n = 50$ paprastąją atsitiktinę imtį. Naudodami `R` programos funkciją `maxLik` arba\n",
    "`optim` DT metodu įvertinkite parametrą $p$. Palyginkite su tikra parametro reikšme."
   ]
  },
  {
   "cell_type": "code",
   "execution_count": 1,
   "id": "needed-cathedral",
   "metadata": {},
   "outputs": [],
   "source": [
    "set.seed(314)"
   ]
  },
  {
   "cell_type": "code",
   "execution_count": 2,
   "id": "underlying-phoenix",
   "metadata": {},
   "outputs": [
    {
     "data": {
      "text/html": [
       "0.318309886183791"
      ],
      "text/latex": [
       "0.318309886183791"
      ],
      "text/markdown": [
       "0.318309886183791"
      ],
      "text/plain": [
       "[1] 0.3183099"
      ]
     },
     "metadata": {},
     "output_type": "display_data"
    }
   ],
   "source": [
    "n <- 50\n",
    "(p <- 1 / pi)\n",
    "k <- 100\n",
    "observ <- rbinom(n, k, p)"
   ]
  },
  {
   "cell_type": "code",
   "execution_count": 3,
   "id": "czech-dallas",
   "metadata": {},
   "outputs": [],
   "source": [
    "# Momentų metodas\n",
    "p_hat_moment <- function(x) { 1 - var(x) / mean(x)}\n",
    "# k_hat_moment <- function(x) { \n",
    "#    m <- mean(x)\n",
    "#    m^2 / (m - var(x))\n",
    "# }"
   ]
  },
  {
   "cell_type": "code",
   "execution_count": 9,
   "id": "ruled-czech",
   "metadata": {},
   "outputs": [],
   "source": [
    "binom_loglik_p <- function(observ) {\n",
    "    n <- length(observ)\n",
    "    m <- mean(observ)\n",
    "    \n",
    "    # Precalculate:\n",
    "    tmp1 <- n * m\n",
    "    tmp2 <- n * (k - m)\n",
    "    tmp3 <- sum(lfactorial(k) - lfactorial(observ) - lfactorial(k - observ))\n",
    "\n",
    "    function(theta) {\n",
    "        p <- theta[1]\n",
    "        tmp1 * log(p) + tmp2 * log(1 - p) + tmp3\n",
    "    }\n",
    "}"
   ]
  },
  {
   "cell_type": "code",
   "execution_count": 10,
   "id": "loved-frank",
   "metadata": {},
   "outputs": [],
   "source": [
    "maxlik_optimiser <- function(f, start) {\n",
    "    suppressPackageStartupMessages(require(maxLik))\n",
    "    mle <- maxLik::maxLik(logLik = f, start = start)\n",
    "    r <- list(\n",
    "        estimates = coef(mle),\n",
    "        hessian = hessian(mle)\n",
    "    )\n",
    "    return(r)\n",
    "}\n",
    "\n",
    "mle_estimator <- function(loglikelihood, optimiser) {\n",
    "    function(data, start) {\n",
    "        optimiser(loglikelihood(data), start)\n",
    "    }\n",
    "}\n",
    "\n",
    "binom_mle_estimator <- mle_estimator(binom_loglik_p, maxlik_optimiser)"
   ]
  },
  {
   "cell_type": "code",
   "execution_count": 12,
   "id": "systematic-translation",
   "metadata": {},
   "outputs": [
    {
     "data": {
      "text/html": [
       "0.483316736206527"
      ],
      "text/latex": [
       "0.483316736206527"
      ],
      "text/markdown": [
       "0.483316736206527"
      ],
      "text/plain": [
       "[1] 0.4833167"
      ]
     },
     "metadata": {},
     "output_type": "display_data"
    },
    {
     "data": {
      "text/html": [
       "<dl>\n",
       "\t<dt>$estimates</dt>\n",
       "\t\t<dd>0.323799999967627</dd>\n",
       "\t<dt>$hessian</dt>\n",
       "\t\t<dd><table class=\"dataframe\">\n",
       "<caption>A matrix: 1 × 1 of type dbl</caption>\n",
       "<tbody>\n",
       "\t<tr><td>-22836.5</td></tr>\n",
       "</tbody>\n",
       "</table>\n",
       "</dd>\n",
       "</dl>\n"
      ],
      "text/latex": [
       "\\begin{description}\n",
       "\\item[\\$estimates] 0.323799999967627\n",
       "\\item[\\$hessian] A matrix: 1 × 1 of type dbl\n",
       "\\begin{tabular}{l}\n",
       "\t -22836.5\\\\\n",
       "\\end{tabular}\n",
       "\n",
       "\\end{description}\n"
      ],
      "text/markdown": [
       "$estimates\n",
       ":   0.323799999967627\n",
       "$hessian\n",
       ":   \n",
       "A matrix: 1 × 1 of type dbl\n",
       "\n",
       "| -22836.5 |\n",
       "\n",
       "\n",
       "\n",
       "\n"
      ],
      "text/plain": [
       "$estimates\n",
       "[1] 0.3238\n",
       "\n",
       "$hessian\n",
       "         [,1]\n",
       "[1,] -22836.5\n"
      ]
     },
     "metadata": {},
     "output_type": "display_data"
    },
    {
     "name": "stdout",
     "output_type": "stream",
     "text": [
      "[1] 0.3183099\n"
     ]
    }
   ],
   "source": [
    "(start_p <- p_hat_moment(observ))\n",
    "(theta_hat_mle <- binom_mle_estimator(observ, c(start_p)))\n",
    "print(p)"
   ]
  }
 ],
 "metadata": {
  "kernelspec": {
   "display_name": "R",
   "language": "R",
   "name": "ir"
  },
  "language_info": {
   "codemirror_mode": "r",
   "file_extension": ".r",
   "mimetype": "text/x-r-source",
   "name": "R",
   "pygments_lexer": "r",
   "version": "4.0.3"
  }
 },
 "nbformat": 4,
 "nbformat_minor": 5
}
