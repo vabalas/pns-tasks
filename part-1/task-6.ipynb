{
 "cells": [
  {
   "cell_type": "markdown",
   "id": "detailed-reputation",
   "metadata": {},
   "source": [
    "# 6. Užduotis\n",
    "\n",
    "Tegu laikas iki įvykio turi loglogistinį skirstinį, t.y. išgyvenimo funkcija yra $S(t) = 1 - {(1+(t/\\eta)^{-\\nu})}^{-1}$.\n",
    "Gauti tokie įvykio momentai (`duom2.txt`):"
   ]
  },
  {
   "cell_type": "code",
   "execution_count": 4,
   "id": "chicken-modem",
   "metadata": {},
   "outputs": [],
   "source": [
    "observ_survival_moments <-c(\n",
    "    0.151, 0.182, 0.203, 0.204, 0.222, 0.226, 0.235, 0.239, 0.242,\n",
    "    0.242, 0.248, 0.250, 0.275, 0.279, 0.282, 0.298, 0.299, 0.303,\n",
    "    0.309, 0.310, 0.333, 0.339, 0.339, 0.344, 0.349, 0.351, 0.353,\n",
    "    0.360, 0.360, 0.366, 0.376, 0.385, 0.385, 0.392, 0.397, 0.397,\n",
    "    0.400, 0.404, 0.405, 0.408, 0.411, 0.414, 0.415, 0.431, 0.431,\n",
    "    0.440, 0.442, 0.447, 0.451, 0.453, 0.459, 0.459, 0.461, 0.467,\n",
    "    0.469, 0.469, 0.49, 0.491, 0.492, 0.494, 0.510, 0.526, 0.527,\n",
    "    0.542, 0.551\n",
    ")"
   ]
  },
  {
   "cell_type": "markdown",
   "id": "italic-father",
   "metadata": {},
   "source": [
    "Įvertinkite parametrus $\\alpha$ ir $\\gamma$:\n",
    "a) naudodami pasirinktą `R` optimizavimo funkciją;\n",
    "b) funkciją `fitdistr`.\n",
    "\n",
    "Raskite medianą, 70-ąjį kvartilį."
   ]
  },
  {
   "cell_type": "code",
   "execution_count": 5,
   "id": "molecular-immune",
   "metadata": {},
   "outputs": [],
   "source": [
    "loglogistic_loglik <- function(observ) {\n",
    "    n <- length(observ)\n",
    "    log_sum <- sum(log(observ))\n",
    "    \n",
    "    function(theta) {\n",
    "        eta <- theta[1]\n",
    "        nu <- theta[2]\n",
    "        \n",
    "        n * (log(nu) - log(eta))\n",
    "        + (nu - 1) * (log_sum - n * log(eta))\n",
    "        - 2 * sum(log(1 + (observ / eta)^nu))\n",
    "    }\n",
    "}"
   ]
  },
  {
   "cell_type": "code",
   "execution_count": 6,
   "id": "indie-toronto",
   "metadata": {},
   "outputs": [],
   "source": [
    "optim_optimiser <- function(f, start) {\n",
    "    mle <- stats::optim(\n",
    "        start, f,\n",
    "        method = \"L-BFGS-B\",\n",
    "        hessian = TRUE\n",
    "    )\n",
    "    r <- list(\n",
    "        estimates = mle$par,\n",
    "        hessian = mle$hessian\n",
    "    )\n",
    "    return(r)\n",
    "}\n",
    "\n",
    "mle_estimator <- function(loglikelihood, optimiser) {\n",
    "    function(data, start) {\n",
    "        optimiser(loglikelihood(data), start)\n",
    "    }\n",
    "}\n",
    "\n",
    "loglik_mle_estimator <- mle_estimator(loglogistic_loglik, optim_optimiser)"
   ]
  },
  {
   "cell_type": "markdown",
   "id": "mature-hunter",
   "metadata": {},
   "source": [
    "$$\n",
    "\\frac{\\gamma t t^{\\gamma - 1} + t^{\\gamma}}{{\\left(t t^{\\gamma} + 1\\right)}^{2}}\n",
    "$$\n"
   ]
  },
  {
   "cell_type": "code",
   "execution_count": null,
   "id": "chemical-engagement",
   "metadata": {},
   "outputs": [],
   "source": [
    "\\frac{\\gamma t t^{\\gamma - 1} + t^{\\gamma}}{{\\left(t t^{\\gamma} + 1\\right)}^{2}}\n"
   ]
  }
 ],
 "metadata": {
  "kernelspec": {
   "display_name": "R",
   "language": "R",
   "name": "ir"
  },
  "language_info": {
   "codemirror_mode": "r",
   "file_extension": ".r",
   "mimetype": "text/x-r-source",
   "name": "R",
   "pygments_lexer": "r",
   "version": "4.0.4"
  }
 },
 "nbformat": 4,
 "nbformat_minor": 5
}
