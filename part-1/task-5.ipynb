{
 "cells": [
  {
   "cell_type": "markdown",
   "id": "practical-incident",
   "metadata": {},
   "source": [
    "# 5. Užduotis"
   ]
  },
  {
   "cell_type": "markdown",
   "id": "bottom-metabolism",
   "metadata": {},
   "source": [
    "Duomenys iš 1) ir 2). Įvertinkite parametrus naudodami `R` funkciją\n",
    "`fitdistr(duomenys, \"skirstinys\")`"
   ]
  },
  {
   "cell_type": "code",
   "execution_count": 13,
   "id": "prerequisite-department",
   "metadata": {},
   "outputs": [],
   "source": [
    "n <- 100"
   ]
  },
  {
   "cell_type": "code",
   "execution_count": 14,
   "id": "furnished-taxation",
   "metadata": {},
   "outputs": [],
   "source": [
    "lambda <- 7 ## laisvai pasirinkta reikšmė\n",
    "\n",
    "exp_inverse_cdf <- function(theta) { ## exponential\n",
    "    function(probs) {\n",
    "        -1 / theta[1] * log(1 - probs)\n",
    "    }\n",
    "}\n",
    "\n",
    "exp_observ <- exp_inverse_cdf(lambda)(runif(n))"
   ]
  },
  {
   "cell_type": "code",
   "execution_count": 15,
   "id": "representative-helena",
   "metadata": {},
   "outputs": [],
   "source": [
    "eta <- 2 # laisvai pasirinkti \n",
    "nu <- 2\n",
    "\n",
    "weibull_inverse_cdf <- function(theta) {\n",
    "    function(probs) {\n",
    "        theta[1] * (-1 * log(1 - probs)) ^ (1 / theta[2])\n",
    "    }\n",
    "}\n",
    "\n",
    "weibull_observ <- weibull_inverse_cdf(c(eta, nu))(runif(n))"
   ]
  },
  {
   "cell_type": "code",
   "execution_count": 16,
   "id": "sublime-posting",
   "metadata": {},
   "outputs": [],
   "source": [
    "library(MASS) "
   ]
  },
  {
   "cell_type": "code",
   "execution_count": 17,
   "id": "valued-parliament",
   "metadata": {},
   "outputs": [
    {
     "name": "stderr",
     "output_type": "stream",
     "text": [
      "Warning message in densfun(x, parm[1], parm[2], ...):\n",
      "\"NaNs produced\"\n"
     ]
    },
    {
     "data": {
      "text/plain": [
       "     shape        scale   \n",
       "  2.20865722   2.02523453 \n",
       " (0.17573224) (0.09639144)"
      ]
     },
     "metadata": {},
     "output_type": "display_data"
    }
   ],
   "source": [
    "fitdistr(weibull_observ, \"Weibull\") "
   ]
  },
  {
   "cell_type": "code",
   "execution_count": 18,
   "id": "sticky-karma",
   "metadata": {},
   "outputs": [
    {
     "data": {
      "text/plain": [
       "     rate   \n",
       "  7.8825985 \n",
       " (0.7882598)"
      ]
     },
     "metadata": {},
     "output_type": "display_data"
    }
   ],
   "source": [
    "fitdistr(exp_observ, \"exponential\")"
   ]
  }
 ],
 "metadata": {
  "kernelspec": {
   "display_name": "R",
   "language": "R",
   "name": "ir"
  },
  "language_info": {
   "codemirror_mode": "r",
   "file_extension": ".r",
   "mimetype": "text/x-r-source",
   "name": "R",
   "pygments_lexer": "r",
   "version": "4.0.3"
  }
 },
 "nbformat": 4,
 "nbformat_minor": 5
}
